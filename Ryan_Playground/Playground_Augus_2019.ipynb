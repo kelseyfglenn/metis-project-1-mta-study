{
 "cells": [
  {
   "cell_type": "markdown",
   "metadata": {},
   "source": [
    "# This Notebook is a Playground to Practice on August 2019 data\n",
    "### The important thing here is we calculated the avg daily ridership (~ 4.6 million)"
   ]
  },
  {
   "cell_type": "code",
   "execution_count": null,
   "metadata": {},
   "outputs": [],
   "source": [
    "import matplotlib.pyplot as plt\n",
    "import numpy as np\n",
    "import pandas as pd\n",
    "\n",
    "# You can configure the format of the images: ‘png’, ‘retina’, ‘jpeg’, ‘svg’, ‘pdf’.\n",
    "%config InlineBackend.figure_format = 'svg'\n",
    "# this statement allows the visuals to render within your Jupyter Notebook\n",
    "%matplotlib inline \n",
    "import functions_python as funcs\n",
    "%load_ext autoreload\n",
    "%autoreload 2\n",
    "\n",
    "pd.set_option('display.max_rows', 1000)"
   ]
  },
  {
   "cell_type": "code",
   "execution_count": null,
   "metadata": {},
   "outputs": [],
   "source": [
    "locations_df = pd.read_csv('http://web.mta.info/developers/data/nyct/turnstile/turnstile_200919.txt')\n",
    "highlighted_stations = pd.read_csv('important_stations.csv')"
   ]
  },
  {
   "cell_type": "code",
   "execution_count": null,
   "metadata": {},
   "outputs": [],
   "source": [
    "# read in August 2019 mta data\n",
    "august_2019_df_list = ['190803', '190810', '190817', '190824', '190831']"
   ]
  },
  {
   "cell_type": "code",
   "execution_count": null,
   "metadata": {},
   "outputs": [],
   "source": [
    "aug_2019_df = funcs.combine_dfs_add_time(august_2019_df_list)\n",
    "aug_2019_df.head()"
   ]
  },
  {
   "cell_type": "code",
   "execution_count": null,
   "metadata": {},
   "outputs": [],
   "source": [
    "aug_2019_df = funcs.add_entry_and_exit_differences(aug_2019_df)\n",
    "aug_2019_df.head()"
   ]
  },
  {
   "cell_type": "code",
   "execution_count": null,
   "metadata": {},
   "outputs": [],
   "source": [
    "#new_df = aug_2019_df.set_index([\"DATE_TIME\"])\n",
    "#new_df[new_df[\"STATION\"]==\"WTC-CORTLANDT\"].resample(\"H\").sum()"
   ]
  },
  {
   "cell_type": "code",
   "execution_count": null,
   "metadata": {},
   "outputs": [],
   "source": [
    "aug_2019_df = funcs.clean_entry_exit_values(aug_2019_df, 3000)\n",
    "aug_2019_df.head()"
   ]
  },
  {
   "cell_type": "markdown",
   "metadata": {},
   "source": [
    "### There was an average ridership of about 4.6 million per day in august 2019"
   ]
  },
  {
   "cell_type": "code",
   "execution_count": null,
   "metadata": {},
   "outputs": [],
   "source": [
    "aug_2019_df.groupby(['DATE'])['ENTRIES_DIFF'].sum().mean()"
   ]
  },
  {
   "cell_type": "code",
   "execution_count": null,
   "metadata": {},
   "outputs": [],
   "source": [
    "aug_2019_totals_per_station = funcs.totals_combined_per_station(aug_2019_df)\n",
    "aug_2019_totals_per_station.sort_values(\"COMBINED\", ascending=False)"
   ]
  },
  {
   "cell_type": "code",
   "execution_count": null,
   "metadata": {},
   "outputs": [],
   "source": [
    "aug_2019_totals_per_station['COMBINED']"
   ]
  },
  {
   "cell_type": "code",
   "execution_count": null,
   "metadata": {},
   "outputs": [],
   "source": [
    "aug_2019_avg_per_station = funcs.avg_combined_per_station(aug_2019_df)\n",
    "aug_2019_avg_per_station.sort_values(\"COMBINED\", ascending=False)"
   ]
  },
  {
   "cell_type": "code",
   "execution_count": null,
   "metadata": {},
   "outputs": [],
   "source": [
    "aug_2019_avg_traffic_per_day_per_station = funcs.avg_per_day_of_week(aug_2019_df)\n",
    "aug_2019_avg_traffic_per_day_per_station.head()"
   ]
  },
  {
   "cell_type": "code",
   "execution_count": null,
   "metadata": {},
   "outputs": [],
   "source": [
    "aug_2019_avg_traffic_per_day_per_time_per_station = funcs.avg_per_day_of_week_and_time(aug_2019_df)\n",
    "aug_2019_avg_traffic_per_day_per_time_per_station"
   ]
  },
  {
   "cell_type": "code",
   "execution_count": null,
   "metadata": {},
   "outputs": [],
   "source": [
    "# clean the highlighted stations\n",
    "highlighted_stations.drop(['Unnamed: 0'], axis=1, inplace=True, errors='ignore')\n",
    "highlighted_stations.rename(columns={'stations': 'STATION'}, inplace=True)\n",
    "highlighted_stations.head()"
   ]
  },
  {
   "cell_type": "code",
   "execution_count": null,
   "metadata": {},
   "outputs": [],
   "source": [
    "# merge with the aug totals\n",
    "aug_totals_with_score = pd.merge(aug_2019_totals_per_station, highlighted_stations, on='STATION')\n",
    "aug_totals_with_score.head()"
   ]
  },
  {
   "cell_type": "code",
   "execution_count": null,
   "metadata": {
    "scrolled": true
   },
   "outputs": [],
   "source": [
    "funcs.create_interested_colored_bar_graph(aug_totals_with_score, 50)"
   ]
  },
  {
   "cell_type": "code",
   "execution_count": null,
   "metadata": {},
   "outputs": [],
   "source": [
    "# filter the merged dataframe to keep only the stations with interest score gretater than or = 4\n",
    "aug_totals_with_score_leaders = aug_totals_with_score[aug_totals_with_score[\"total score\"]>=4]\n",
    "# take the top ten, this is what we will focus on\n",
    "leader_stations = aug_totals_with_score_leaders.head(10)\n",
    "# grab the station row (we will use this as our graph index)\n",
    "leader_stations = leader_stations[\"STATION\"]\n",
    "# stations we want oprdered by traffic\n",
    "leader_stations"
   ]
  },
  {
   "cell_type": "code",
   "execution_count": null,
   "metadata": {},
   "outputs": [],
   "source": [
    "funcs.create_day_of_week_stacked_bar_graph(aug_2019_avg_traffic_per_day_per_station, leader_stations)"
   ]
  },
  {
   "cell_type": "code",
   "execution_count": null,
   "metadata": {},
   "outputs": [],
   "source": [
    "reset = aug_2019_avg_traffic_per_day_per_time_per_station.reset_index()"
   ]
  },
  {
   "cell_type": "code",
   "execution_count": null,
   "metadata": {},
   "outputs": [],
   "source": [
    "reset = reset[reset[\"STATION\"].isin(leader_stations)]\n",
    "reset.sort_values(by=[\"COMBINED\"], ascending=False)"
   ]
  },
  {
   "cell_type": "code",
   "execution_count": null,
   "metadata": {},
   "outputs": [],
   "source": [
    "reset.groupby(\"TIME\")[[\"COMBINED\"]].sum().sort_values(by=[\"COMBINED\"], ascending=False)\n",
    "# plt.plot(twenty_three[\"TIME\"].astype(str), twenty_three[\"COMBINED\"])"
   ]
  },
  {
   "cell_type": "code",
   "execution_count": null,
   "metadata": {},
   "outputs": [],
   "source": []
  },
  {
   "cell_type": "code",
   "execution_count": null,
   "metadata": {},
   "outputs": [],
   "source": []
  }
 ],
 "metadata": {
  "kernelspec": {
   "display_name": "Python 3",
   "language": "python",
   "name": "python3"
  },
  "language_info": {
   "codemirror_mode": {
    "name": "ipython",
    "version": 3
   },
   "file_extension": ".py",
   "mimetype": "text/x-python",
   "name": "python",
   "nbconvert_exporter": "python",
   "pygments_lexer": "ipython3",
   "version": "3.7.4"
  }
 },
 "nbformat": 4,
 "nbformat_minor": 2
}
