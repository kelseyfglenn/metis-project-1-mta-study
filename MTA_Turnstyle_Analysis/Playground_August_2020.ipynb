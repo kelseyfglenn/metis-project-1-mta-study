{
 "cells": [
  {
   "cell_type": "markdown",
   "metadata": {},
   "source": [
    "# This Notebook is a Playground to Practice on August 2020 data\n",
    "### The important thing here is we calculated the avg daily ridership (~ 4.6 million)"
   ]
  },
  {
   "cell_type": "code",
   "execution_count": null,
   "metadata": {},
   "outputs": [],
   "source": [
    "import matplotlib.pyplot as plt\n",
    "import numpy as np\n",
    "import pandas as pd\n",
    "\n",
    "# You can configure the format of the images: ‘png’, ‘retina’, ‘jpeg’, ‘svg’, ‘pdf’.\n",
    "%config InlineBackend.figure_format = 'svg'\n",
    "# this statement allows the visuals to render within your Jupyter Notebook\n",
    "%matplotlib inline \n",
    "import functions_python as funcs\n",
    "%load_ext autoreload\n",
    "%autoreload 2\n",
    "\n",
    "pd.set_option('display.max_rows', 1000)"
   ]
  },
  {
   "cell_type": "code",
   "execution_count": null,
   "metadata": {},
   "outputs": [],
   "source": [
    "locations_df = pd.read_csv('http://web.mta.info/developers/data/nyct/turnstile/turnstile_200919.txt')\n",
    "highlighted_stations = pd.read_csv('important_stations.csv')"
   ]
  },
  {
   "cell_type": "code",
   "execution_count": null,
   "metadata": {},
   "outputs": [],
   "source": [
    "# read in August 2019 mta data\n",
    "august_2020_df_list = ['200829', '200822', '200815', '200808', '200801']"
   ]
  },
  {
   "cell_type": "code",
   "execution_count": null,
   "metadata": {},
   "outputs": [],
   "source": [
    "aug_2020_df = funcs.combine_dfs_add_time(august_2020_df_list)\n",
    "aug_2020_df.head()"
   ]
  },
  {
   "cell_type": "code",
   "execution_count": null,
   "metadata": {},
   "outputs": [],
   "source": [
    "aug_2020_df = funcs.add_entry_and_exit_differences(aug_2020_df)\n",
    "aug_2020_df.head()"
   ]
  },
  {
   "cell_type": "code",
   "execution_count": null,
   "metadata": {},
   "outputs": [],
   "source": [
    "aug_2020_df = funcs.clean_entry_exit_values(aug_2020_df, 3000)\n",
    "aug_2020_df.head()"
   ]
  },
  {
   "cell_type": "markdown",
   "metadata": {},
   "source": [
    "# There was an average ridership of about 1.1 million per day in august 2020¶\n",
    "# This is about 25% of 2019"
   ]
  },
  {
   "cell_type": "code",
   "execution_count": null,
   "metadata": {},
   "outputs": [],
   "source": [
    "aug_2020_df.groupby(['DATE'])['ENTRIES_DIFF'].sum().mean()"
   ]
  },
  {
   "cell_type": "code",
   "execution_count": null,
   "metadata": {},
   "outputs": [],
   "source": [
    "aug_2020_totals_per_station = funcs.totals_combined_per_station(aug_2020_df)\n",
    "aug_2020_totals_per_station.sort_values(\"COMBINED\", ascending=False)"
   ]
  },
  {
   "cell_type": "code",
   "execution_count": null,
   "metadata": {},
   "outputs": [],
   "source": [
    "aug_2020_avg_per_station = funcs.avg_combined_per_station(aug_2020_df)\n",
    "aug_2020_avg_per_station.sort_values(\"COMBINED\", ascending=False)"
   ]
  },
  {
   "cell_type": "code",
   "execution_count": null,
   "metadata": {},
   "outputs": [],
   "source": [
    "aug_2020_avg_traffic_per_day_per_station = funcs.avg_per_day_of_week(aug_2020_df)\n",
    "aug_2020_avg_traffic_per_day_per_station.head()"
   ]
  },
  {
   "cell_type": "code",
   "execution_count": null,
   "metadata": {},
   "outputs": [],
   "source": [
    "aug_2020_avg_traffic_per_day_per_time_per_station = funcs.avg_per_day_of_week_and_time(aug_2020_df)\n",
    "aug_2020_avg_traffic_per_day_per_time_per_station.head()"
   ]
  },
  {
   "cell_type": "code",
   "execution_count": null,
   "metadata": {},
   "outputs": [],
   "source": [
    "highlighted_stations.head()"
   ]
  },
  {
   "cell_type": "code",
   "execution_count": null,
   "metadata": {},
   "outputs": [],
   "source": [
    "highlighted_stations.drop(['Unnamed: 0'], axis=1, inplace=True, errors='ignore')\n",
    "highlighted_stations.rename(columns={'stations': 'STATION'}, inplace=True)\n",
    "highlighted_stations.head()"
   ]
  },
  {
   "cell_type": "code",
   "execution_count": null,
   "metadata": {},
   "outputs": [],
   "source": [
    "station_score_df = highlighted_stations[[\"STATION\", \"total score\"]]\n",
    "station_score_df.head()"
   ]
  },
  {
   "cell_type": "code",
   "execution_count": null,
   "metadata": {},
   "outputs": [],
   "source": [
    "aug_totals_with_score = pd.merge(aug_2020_totals_per_station, highlighted_stations, on='STATION')\n",
    "aug_totals_with_score.head()"
   ]
  },
  {
   "cell_type": "code",
   "execution_count": null,
   "metadata": {},
   "outputs": [],
   "source": [
    "color_mapper = {\n",
    "    \"7\":'g',\n",
    "    \"6\":'b',\n",
    "    \"5\":'y',\n",
    "    \"4\":'y',\n",
    "    \"3\":'orange',\n",
    "    \"2\":'r',\n",
    "    \"1\":'r',\n",
    "    \"0\":'r',\n",
    "}"
   ]
  },
  {
   "cell_type": "code",
   "execution_count": null,
   "metadata": {},
   "outputs": [],
   "source": [
    "aug_totals_with_score[\"color\"] = aug_totals_with_score[\"total score\"].astype(str).map(color_mapper)\n",
    "aug_totals_with_score.head(50)"
   ]
  },
  {
   "cell_type": "code",
   "execution_count": null,
   "metadata": {
    "scrolled": true
   },
   "outputs": [],
   "source": [
    "aug_totals_with_score.head(50).plot.bar(x='STATION', y='COMBINED', rot=0, color=aug_totals_with_score[\"color\"], figsize=(10,5))"
   ]
  },
  {
   "cell_type": "code",
   "execution_count": null,
   "metadata": {},
   "outputs": [],
   "source": []
  }
 ],
 "metadata": {
  "kernelspec": {
   "display_name": "Python 3",
   "language": "python",
   "name": "python3"
  },
  "language_info": {
   "codemirror_mode": {
    "name": "ipython",
    "version": 3
   },
   "file_extension": ".py",
   "mimetype": "text/x-python",
   "name": "python",
   "nbconvert_exporter": "python",
   "pygments_lexer": "ipython3",
   "version": "3.7.4"
  }
 },
 "nbformat": 4,
 "nbformat_minor": 2
}
